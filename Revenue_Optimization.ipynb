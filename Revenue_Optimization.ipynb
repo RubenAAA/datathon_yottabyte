{
 "cells": [
  {
   "cell_type": "markdown",
   "metadata": {},
   "source": [
    "# **Revenue Optimization - Determining how much to sell and store at a given time a day**"
   ]
  },
  {
   "cell_type": "markdown",
   "metadata": {},
   "source": [
    "## Explanations of the  Revenue-Based Optimizer"
   ]
  },
  {
   "cell_type": "markdown",
   "metadata": {},
   "source": [
    "Forecasted Energy Prices: Time-series predictions of energy prices.\n",
    "\n",
    "\n",
    "Forecasted Energy Demand: Predicted demand patterns.\n",
    "\n",
    "\n",
    "Battery State of Charge (SoC): Initial and current state of the battery.\n",
    "\n",
    "\n",
    "Energy Storage Capacity: Maximum and minimum energy storage.\n",
    "\n",
    "\n",
    "Charging/Discharging Rates: Maximum allowable rates for charging and discharging."
   ]
  },
  {
   "cell_type": "markdown",
   "metadata": {},
   "source": [
    "## Constraints of optimizer"
   ]
  },
  {
   "cell_type": "markdown",
   "metadata": {},
   "source": [
    "Energy balance: initial state and current charge of battery + energy charged - energy sold\n",
    "\n",
    "\n",
    "\n",
    "\n",
    "Capacity: between 0 and the capacity of the battery, the initial state and charge of battery must be between \n",
    "\n",
    "\n",
    "\n",
    "Charging rate: energy charged cannot be greater than max charging rate \n",
    "\n",
    "\n",
    "Discharge rate: energy sold cannot be greater than max discharging rate "
   ]
  },
  {
   "cell_type": "code",
   "execution_count": 49,
   "metadata": {},
   "outputs": [],
   "source": [
    "import pandas as pd\n",
    "\n",
    "# Load predictions and convert them into a list format in order to loop through them in the optimizer function \n",
    "price_forecast = pd.read_csv('Submission.csv')\n",
    "system_price_values = price_forecast['System_Price'].values\n"
   ]
  },
  {
   "cell_type": "code",
   "execution_count": null,
   "metadata": {},
   "outputs": [
    {
     "name": "stdout",
     "output_type": "stream",
     "text": [
      "       Price  Energy Sold (MWh)  Energy Charged (MWh)  Battery SoC (MWh)\n",
      "0    42.1416               45.0                   0.0                5.0\n",
      "1    38.4571                0.0                   0.0                5.0\n",
      "2    14.1165                0.0                  50.0               55.0\n",
      "3    18.8649                0.0                  40.0               95.0\n",
      "4    24.5399               50.0                   0.0               45.0\n",
      "5    11.0825                0.0                  50.0               95.0\n",
      "6    34.5724               50.0                   0.0               45.0\n",
      "7    27.5017                0.0                  50.0               95.0\n",
      "8    39.0768                0.0                   0.0               95.0\n",
      "9    64.8016                0.0                   0.0               95.0\n",
      "10   85.9560                0.0                   0.0               95.0\n",
      "11  100.2723                0.0                   0.0               95.0\n",
      "12  105.4948               50.0                   0.0               45.0\n",
      "13  105.4662                0.0                  50.0               95.0\n",
      "14  117.0329               50.0                   0.0               45.0\n",
      "15   99.4884                0.0                  50.0               95.0\n",
      "16  111.4162                0.0                   0.0               95.0\n",
      "17  114.9370               50.0                   0.0               45.0\n",
      "18  112.6800               40.0                   0.0                5.0\n",
      "19  106.3135                0.0                   0.0                5.0\n",
      "20  101.4714                0.0                  50.0               55.0\n",
      "21  105.0085               50.0                   0.0                5.0\n",
      "22   92.0058                0.0                  50.0               55.0\n",
      "23   93.4079               50.0                   0.0                5.0\n",
      "24   90.0862                0.0                  40.0               45.0\n",
      "25   88.3812                0.0                  50.0               95.0\n",
      "26  106.8948               50.0                   0.0               45.0\n",
      "27   98.7303                0.0                  50.0               95.0\n",
      "28  110.6603               50.0                   0.0               45.0\n",
      "29   98.5092                0.0                  50.0               95.0\n",
      "30  105.2991                0.0                   0.0               95.0\n",
      "31  115.7218                0.0                   0.0               95.0\n",
      "32  116.1967               50.0                   0.0               45.0\n",
      "33  115.8953               40.0                   0.0                5.0\n",
      "34  113.4627                0.0                   0.0                5.0\n",
      "35  107.5005                0.0                  50.0               55.0\n",
      "36  112.8426               50.0                   0.0                5.0\n",
      "37  110.9872                0.0                  50.0               55.0\n",
      "38  111.5551               50.0                   0.0                5.0\n",
      "39  105.2438                0.0                  50.0               55.0\n",
      "40  108.7550               50.0                   0.0                5.0\n",
      "41  104.1970                0.0                   0.0                5.0\n",
      "42  100.3995                0.0                  50.0               55.0\n",
      "43  104.7956               50.0                   0.0                5.0\n",
      "44   98.9521                0.0                   0.0                5.0\n",
      "45   89.5776                0.0                   0.0                5.0\n",
      "46   79.7541                0.0                   0.0                5.0\n",
      "47   68.4246                0.0                   0.0                5.0\n",
      "Total Objective Value: 17004.798908233795\n"
     ]
    }
   ],
   "source": [
    "from pulp import LpMaximize, LpProblem, LpVariable, lpSum, value\n",
    "import numpy as np\n",
    "import pandas as pd\n",
    "# Load predictions and convert them into a list format in order to loop through them in the optimizer function \n",
    "price_forecast = pd.read_csv('Submission.csv')\n",
    "system_price_values = price_forecast['System_Price'].values\n",
    "\n",
    "# Parameters\n",
    "T = len(system_price_values)  # Number of time periods\n",
    "battery_capacity = 100  # Maximum battery capacity in MWh\n",
    "max_charging_rate = 50  # Maximum charging rate in MW\n",
    "max_discharging_rate = 50  # Maximum discharging rate in MW\n",
    "initial_soc = 50  # Initial state of charge in MWh\n",
    "charging_efficiency = 0.9  # Charging efficiency\n",
    "discharging_efficiency = 0.9  # Discharging efficiency\n",
    "safety_margin = 5  # Safety margin for battery state of charge (MWh)\n",
    "\n",
    "# -----------------------------\n",
    "# HEURISTIC PRE-PROCESSING STEP\n",
    "# -----------------------------\n",
    "sorted_prices = sorted(system_price_values)\n",
    "low_cutoff = np.percentile(system_price_values, 15)   # bottom 20% are \"low-price\" periods\n",
    "high_cutoff = np.percentile(system_price_values, 95)  # top 20% are \"high-price\" periods\n",
    "\n",
    "low_price_periods = [t for t, p in enumerate(system_price_values) if p <= low_cutoff]\n",
    "high_price_periods = [t for t, p in enumerate(system_price_values) if p >= high_cutoff]\n",
    "\n",
    "# These sets identify when charging or discharging might be beneficial. \n",
    "# We'll incorporate these sets into the objective function as gentle nudges.\n",
    "\n",
    "# -----------------------------\n",
    "# OPTIMIZATION MODEL\n",
    "# -----------------------------\n",
    "problem = LpProblem(\"Revenue_Maximization\", LpMaximize)\n",
    "\n",
    "# Decision Variables\n",
    "SoC = [LpVariable(f\"SoC_{t}\", lowBound=0, upBound=battery_capacity) for t in range(T)]\n",
    "energy_sold = [LpVariable(f\"Energy_Sold_{t}\", lowBound=0, upBound=max_discharging_rate) for t in range(T)]\n",
    "energy_charged = [LpVariable(f\"Energy_Charged_{t}\", lowBound=0, upBound=max_charging_rate) for t in range(T)]\n",
    "is_charging = [LpVariable(f\"Is_Charging_{t}\", cat=\"Binary\") for t in range(T)]\n",
    "is_discharging = [LpVariable(f\"Is_Discharging_{t}\", cat=\"Binary\") for t in range(T)]\n",
    "\n",
    "# -----------------------------\n",
    "# OBJECTIVE FUNCTION\n",
    "# -----------------------------\n",
    "# Primary goal: maximize revenue from selling energy at given prices\n",
    "obj = lpSum(system_price_values[t] * energy_sold[t] for t in range(T)) \\\n",
    "    - lpSum(system_price_values[t] * energy_charged[t] for t in range(T))\n",
    "\n",
    "# If you still want small bonuses (not usually necessary), you can add them:\n",
    "charging_bonus = 0.1\n",
    "discharging_bonus = 0.1\n",
    "\n",
    "obj += lpSum(charging_bonus * energy_charged[t] for t in low_price_periods)\n",
    "obj += lpSum(discharging_bonus * energy_sold[t] for t in high_price_periods)\n",
    "\n",
    "problem += obj, \"Total_Profit\"\n",
    "\n",
    "\n",
    "# -----------------------------\n",
    "# CONSTRAINTS\n",
    "# -----------------------------\n",
    "for t in range(T):\n",
    "    # State of charge balance\n",
    "    if t == 0:\n",
    "        problem += SoC[t] == initial_soc + charging_efficiency * energy_charged[t] - energy_sold[t]\n",
    "    else:\n",
    "        problem += SoC[t] == SoC[t-1] + charging_efficiency * energy_charged[t] - energy_sold[t]\n",
    "\n",
    "    # Battery capacity constraints with safety margin\n",
    "    problem += SoC[t] >= safety_margin\n",
    "    problem += SoC[t] <= battery_capacity - safety_margin\n",
    "\n",
    "    # Link binary variables to charging/discharging\n",
    "    problem += energy_charged[t] <= max_charging_rate * is_charging[t]\n",
    "    problem += energy_sold[t] <= max_discharging_rate * is_discharging[t]\n",
    "\n",
    "    # No simultaneous charging and discharging\n",
    "    problem += is_charging[t] + is_discharging[t] <= 1\n",
    "\n",
    "# Solve the problem\n",
    "problem.solve()\n",
    "\n",
    "# Extract results\n",
    "optimal_energy_sold = [energy_sold[t].varValue for t in range(T)]\n",
    "optimal_energy_charged = [energy_charged[t].varValue for t in range(T)]\n",
    "optimal_soc = [SoC[t].varValue for t in range(T)]\n",
    "optimal_is_charging = [is_charging[t].varValue for t in range(T)]\n",
    "optimal_is_discharging = [is_discharging[t].varValue for t in range(T)]\n",
    "\n",
    "# Create a DataFrame for results\n",
    "results_df = pd.DataFrame({\n",
    "    \"Price\": system_price_values,\n",
    "    \"Energy Sold (MWh)\": optimal_energy_sold,\n",
    "    \"Energy Charged (MWh)\": optimal_energy_charged,\n",
    "    \"Battery SoC (MWh)\": optimal_soc\n",
    "})\n",
    "results_df = results_df.round(4)\n",
    "print(results_df)\n",
    "print(\"Total Objective Value:\", value(problem.objective))\n"
   ]
  },
  {
   "cell_type": "markdown",
   "metadata": {},
   "source": [
    "In the following codes, we wanted to investigate the aggregation of the outputs above. "
   ]
  },
  {
   "cell_type": "code",
   "execution_count": 13,
   "metadata": {},
   "outputs": [
    {
     "name": "stdout",
     "output_type": "stream",
     "text": [
      "Total Energy Sold (MWh): 960.0\n",
      "Total Energy Charged (MWh): 910.0\n",
      "Final Battery SoC (MWh): 0.0\n"
     ]
    }
   ],
   "source": [
    "# Calculating totals\n",
    "total_energy_sold = sum(optimal_energy_sold)\n",
    "total_energy_charged = sum(optimal_energy_charged)\n",
    "final_soc = optimal_soc[-1]  # Final state of charge at the end of the period\n",
    "\n",
    "# Results\n",
    "print(f\"Total Energy Sold (MWh): {total_energy_sold}\")\n",
    "print(f\"Total Energy Charged (MWh): {total_energy_charged}\")\n",
    "print(f\"Final Battery SoC (MWh): {final_soc}\")"
   ]
  }
 ],
 "metadata": {
  "kernelspec": {
   "display_name": "base",
   "language": "python",
   "name": "python3"
  },
  "language_info": {
   "codemirror_mode": {
    "name": "ipython",
    "version": 3
   },
   "file_extension": ".py",
   "mimetype": "text/x-python",
   "name": "python",
   "nbconvert_exporter": "python",
   "pygments_lexer": "ipython3",
   "version": "3.12.3"
  }
 },
 "nbformat": 4,
 "nbformat_minor": 2
}
